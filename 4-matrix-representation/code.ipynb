{
 "cells": [
  {
   "cell_type": "code",
   "execution_count": 37,
   "metadata": {},
   "outputs": [],
   "source": [
    "import pandas as pd\n",
    "import numpy as np\n",
    "import matplotlib.pyplot as plt \n",
    "import seaborn as sns\n",
    "import statsmodels.api as sm\n",
    "import patsy"
   ]
  },
  {
   "cell_type": "code",
   "execution_count": 38,
   "metadata": {},
   "outputs": [
    {
     "data": {
      "text/html": [
       "<div>\n",
       "<style scoped>\n",
       "    .dataframe tbody tr th:only-of-type {\n",
       "        vertical-align: middle;\n",
       "    }\n",
       "\n",
       "    .dataframe tbody tr th {\n",
       "        vertical-align: top;\n",
       "    }\n",
       "\n",
       "    .dataframe thead th {\n",
       "        text-align: right;\n",
       "    }\n",
       "</style>\n",
       "<table border=\"1\" class=\"dataframe\">\n",
       "  <thead>\n",
       "    <tr style=\"text-align: right;\">\n",
       "      <th></th>\n",
       "      <th>rent</th>\n",
       "      <th>bedrooms</th>\n",
       "      <th>bathrooms</th>\n",
       "      <th>size_sqft</th>\n",
       "      <th>min_to_subway</th>\n",
       "      <th>building_age_yrs</th>\n",
       "      <th>has_washer_dryer</th>\n",
       "    </tr>\n",
       "  </thead>\n",
       "  <tbody>\n",
       "    <tr>\n",
       "      <th>0</th>\n",
       "      <td>3600</td>\n",
       "      <td>3.0</td>\n",
       "      <td>2</td>\n",
       "      <td>900</td>\n",
       "      <td>4</td>\n",
       "      <td>15</td>\n",
       "      <td>0</td>\n",
       "    </tr>\n",
       "    <tr>\n",
       "      <th>1</th>\n",
       "      <td>3900</td>\n",
       "      <td>3.0</td>\n",
       "      <td>2</td>\n",
       "      <td>1000</td>\n",
       "      <td>4</td>\n",
       "      <td>8</td>\n",
       "      <td>0</td>\n",
       "    </tr>\n",
       "    <tr>\n",
       "      <th>2</th>\n",
       "      <td>2700</td>\n",
       "      <td>2.0</td>\n",
       "      <td>1</td>\n",
       "      <td>900</td>\n",
       "      <td>4</td>\n",
       "      <td>96</td>\n",
       "      <td>0</td>\n",
       "    </tr>\n",
       "    <tr>\n",
       "      <th>3</th>\n",
       "      <td>4900</td>\n",
       "      <td>1.0</td>\n",
       "      <td>1</td>\n",
       "      <td>1216</td>\n",
       "      <td>6</td>\n",
       "      <td>88</td>\n",
       "      <td>0</td>\n",
       "    </tr>\n",
       "    <tr>\n",
       "      <th>4</th>\n",
       "      <td>3900</td>\n",
       "      <td>0.0</td>\n",
       "      <td>1</td>\n",
       "      <td>1100</td>\n",
       "      <td>3</td>\n",
       "      <td>85</td>\n",
       "      <td>0</td>\n",
       "    </tr>\n",
       "  </tbody>\n",
       "</table>\n",
       "</div>"
      ],
      "text/plain": [
       "   rent  bedrooms  bathrooms  size_sqft  min_to_subway  building_age_yrs  \\\n",
       "0  3600       3.0          2        900              4                15   \n",
       "1  3900       3.0          2       1000              4                 8   \n",
       "2  2700       2.0          1        900              4                96   \n",
       "3  4900       1.0          1       1216              6                88   \n",
       "4  3900       0.0          1       1100              3                85   \n",
       "\n",
       "   has_washer_dryer  \n",
       "0                 0  \n",
       "1                 0  \n",
       "2                 0  \n",
       "3                 0  \n",
       "4                 0  "
      ]
     },
     "execution_count": 38,
     "metadata": {},
     "output_type": "execute_result"
    }
   ],
   "source": [
    "df = pd.read_csv('https://raw.githubusercontent.com/Codecademy/datasets/master/streeteasy/brooklyn.csv')\n",
    "bk = df[['rent', 'bedrooms',  'bathrooms', 'size_sqft', 'min_to_subway', 'building_age_yrs', 'has_washer_dryer']]\n",
    "bk.head(5)"
   ]
  },
  {
   "cell_type": "markdown",
   "metadata": {},
   "source": [
    "# Some Math (but don't be afraid!!)"
   ]
  },
  {
   "cell_type": "markdown",
   "metadata": {},
   "source": [
    "Suppose we fit the following simple linear regression (using our eq for a line):\n",
    "\n",
    "$\\text{rent} = m*\\text{size_sqft} + b + \\text{error}$"
   ]
  },
  {
   "cell_type": "markdown",
   "metadata": {},
   "source": [
    "This is actually shorthand for a bunch of equations, one for each row of the dataset: \n",
    "\n",
    "$\n",
    "\\begin{aligned}\n",
    "3600 = m*900 + b + \\text{error}_1 \\\\\n",
    "3900 = m*1000 + b + \\text{error}_2 \\\\\n",
    "2700 = m*900 + b + \\text{error}_3 \\\\\n",
    "4900 = m*1216 + b + \\text{error}_4 \\\\\n",
    "3900 = m*1100 + b + \\text{error}_5\n",
    "\\end{aligned}\n",
    "$\n",
    "\n",
    "Note that, for OLS regression, we want to find the values of $m$ and $b$ that minimizes the sum of all of the squared error terms:   \n",
    "\n",
    "$\\text{error}_1^2 + \\text{error}_2^2 + \\text{error}_3^2 + \\text{error}_4^2 + \\text{error}_5^2 + ...$"
   ]
  },
  {
   "cell_type": "markdown",
   "metadata": {},
   "source": [
    "We can re-write the five equations above using matrices as follows: \n",
    "\n",
    "$\n",
    "\\begin{pmatrix} 3600 \\\\ 3900 \\\\2700 \\\\4900 \\\\3900 \\end{pmatrix} =  m*  \\begin{pmatrix} 900 \\\\1000 \\\\900 \\\\1216 \\\\1100  \\end{pmatrix} + b*\\begin{pmatrix} 1\\\\ 1\\\\ 1\\\\ 1\\\\ 1\\\\ \\end{pmatrix} + \\begin{pmatrix} \\text{error}_1\\\\ \\text{error}_2\\\\ \\text{error}_3\\\\ \\text{error}_4\\\\ \\text{error}_5\\\\ \\end{pmatrix}\n",
    "$\n",
    "\n",
    "Or more simply: \n",
    "\n",
    "$\n",
    "\\begin{pmatrix} 3600 \\\\ 3900 \\\\2700 \\\\4900 \\\\3900 \\end{pmatrix} =\n",
    "\\begin{pmatrix} 1 & 900 \\\\ 1 & 1000 \\\\ 1 & 900 \\\\ 1 & 1216\\\\  1 & 1100 \\end{pmatrix} \\begin{pmatrix} b \\\\ m \\end{pmatrix} +\\begin{pmatrix} \\text{error}_1\\\\ \\text{error}_2\\\\ \\text{error}_3\\\\ \\text{error}_4\\\\ \\text{error}_5\\\\ \\end{pmatrix}\n",
    "$\n",
    "\n",
    "This works because of matrix multiplication: \n",
    "\n",
    "$\n",
    "\\begin{pmatrix} 1 & 900 \\\\ 1 & 1000 \\\\ 1 & 900 \\\\ 1 & 1216\\\\  1 & 1100 \\end{pmatrix} * \\begin{pmatrix} b \\\\ m \\end{pmatrix} = \\begin{pmatrix} b + 900m \\\\ b+ 1000m\\\\ b + 900m \\\\ b + 1216m \\\\ b + 1100m \\\\  \\end{pmatrix} \n",
    "$"
   ]
  },
  {
   "cell_type": "markdown",
   "metadata": {},
   "source": [
    "Now, we can generalize this for the purpose of multiple linear regression. For example, imagine the equation:\n",
    "\n",
    "$rent = b_0 + b_1*\\text{size_sqft} + b_2*\\text{min_to_subway} + b_3*\\text{has_washer_dryer} + .. + \\text{error}$\n",
    "\n",
    "In multiple linear regression, our general form of the regression equation is:\n",
    "\n",
    "$y = b_0 + b_1x_1 + b_2x_2 + ... + b_mx_m + \\text{error}$\n",
    "\n",
    "This corresponds to many equations of the form:\n",
    "\n",
    "$\n",
    "\\begin{aligned}\n",
    "y_1 = b_0 + b_1x_{11} + b_2x_{21} + ... + b_mx_{m1} + \\text{error}_1\\\\\n",
    "y_2 = b_0 + b_1x_{12} + b_2x_{22} + ... + b_mx_{m2} + \\text{error}_2\\\\\n",
    "y_3 = b_0 + b_1x_{13} + b_2x_{23} + ... + b_mx_{m3} + \\text{error}_3\\\\\n",
    ". . . . . . . . . . . . . .\\\\\n",
    "y_n = b_0 + b_1x_{1n} + b_2x_{2n} + ... + b_mx_{mn} + \\text{error}_n\\\\\n",
    "\\end{aligned}\n",
    "$\n",
    "\n",
    "And we can write the shorthand for these equations as:\n",
    "\n",
    "$\n",
    "\\begin{pmatrix} y_1 \\\\ y_2 \\\\ y_3 \\\\ . \\\\ . \\\\ .  \\\\ y_n \\end{pmatrix}  =  \\begin{pmatrix} 1 & x_{11} & x_{21} & . & . & . & x_{m1} \\\\1 & x_{12} & x_{22} & . & . & . & x_{m2} \\\\\n",
    "1 & x_{13} & x_{23} & . & . & . & x_{m3} \\\\\n",
    "                . & . & . & . & . & . & \\\\\n",
    "                . & . & . & . & . & . & \\\\\n",
    "                . & . & . & . & . & . & \\\\\n",
    "                1 & x_{1n} & x_{2n} & . & . & . & x_{mn} \\end{pmatrix} \\begin{pmatrix} b_0 \\\\ b_1 \\\\ b_2 \\\\ . \\\\ . \\\\ . \\\\ b_m \\end{pmatrix} + \\begin{pmatrix} \\text{error}_0 \\\\ \\text{error}_1 \\\\ \\text{error}_2 \\\\ . \\\\ . \\\\ . \\\\ \\text{error}_n \\end{pmatrix}\n",
    "$\n"
   ]
  },
  {
   "cell_type": "markdown",
   "metadata": {},
   "source": [
    "There are 4 matrices in this equation, and they each have names:\n",
    "\n",
    "* a column matrix *y* of the outcome variable values\n",
    "* the design matrix *X* which has a column of 1’s and a column for each predictor variable\n",
    "* a column matrix of the intercept and slopes, often denoted by the greek letter beta ($\\beta$) (this is what we want to calculate)\n",
    "* the error matrix, often denoted with the greek letter epsilon ($\\epsilon$)\n",
    "\n",
    "Using these four matrices, we can write the regression equation as:\n",
    "\n",
    "$y =  X\\beta + \\epsilon$\n",
    "\n",
    "And using calculus + linear algebra, we can actually solve for the values of $\\beta$ that minimize the sum of the squared values in $\\epsilon$:\n",
    "\n",
    "$\\beta = (X^T X)^{-1}X^Ty$"
   ]
  },
  {
   "cell_type": "code",
   "execution_count": 39,
   "metadata": {},
   "outputs": [
    {
     "name": "stdout",
     "output_type": "stream",
     "text": [
      "      Intercept  building_age_yrs  min_to_subway  has_washer_dryer\n",
      "0           1.0              15.0            4.0               0.0\n",
      "1           1.0               8.0            4.0               0.0\n",
      "2           1.0              96.0            4.0               0.0\n",
      "3           1.0              88.0            6.0               0.0\n",
      "4           1.0              85.0            3.0               0.0\n",
      "...         ...               ...            ...               ...\n",
      "1008        1.0              88.0            5.0               0.0\n",
      "1009        1.0              10.0            1.0               1.0\n",
      "1010        1.0             117.0            5.0               0.0\n",
      "1011        1.0               5.0            1.0               0.0\n",
      "1012        1.0             116.0            3.0               1.0\n",
      "\n",
      "[1013 rows x 4 columns]\n"
     ]
    }
   ],
   "source": [
    "# let's see this in action:\n",
    "\n",
    "y, X = patsy.dmatrices('rent ~ building_age_yrs+ min_to_subway + has_washer_dryer', bk, return_type='dataframe')\n",
    "print(X)"
   ]
  },
  {
   "cell_type": "code",
   "execution_count": 40,
   "metadata": {},
   "outputs": [
    {
     "name": "stdout",
     "output_type": "stream",
     "text": [
      "Intercept           3696.170035\n",
      "building_age_yrs      -5.465115\n",
      "min_to_subway        -25.179742\n",
      "has_washer_dryer     719.578411\n",
      "dtype: float64 \n",
      " Warnings:\n",
      "[1] Standard Errors assume that the covariance matrix of the errors is correctly specified.\n"
     ]
    }
   ],
   "source": [
    "model = sm.OLS(y,X)\n",
    "results = model.fit()\n",
    "print(results.params, '\\n', results.summary().extra_txt)"
   ]
  },
  {
   "cell_type": "code",
   "execution_count": 41,
   "metadata": {},
   "outputs": [
    {
     "name": "stdout",
     "output_type": "stream",
     "text": [
      "[[  1.  15.   4.   0.]\n",
      " [  1.   8.   4.   0.]\n",
      " [  1.  96.   4.   0.]\n",
      " ...\n",
      " [  1. 117.   5.   0.]\n",
      " [  1.   5.   1.   0.]\n",
      " [  1. 116.   3.   1.]]\n"
     ]
    }
   ],
   "source": [
    "# now let's convert the design matrix (X) from a dataframe to a numpy matrix\n",
    "np.set_printoptions(suppress=True)\n",
    "X_matrix = np.matrix(X.to_numpy())\n",
    "print(X_matrix)"
   ]
  },
  {
   "cell_type": "code",
   "execution_count": 42,
   "metadata": {},
   "outputs": [
    {
     "name": "stdout",
     "output_type": "stream",
     "text": [
      "[[3696.17003521]\n",
      " [  -5.46511521]\n",
      " [ -25.17974166]\n",
      " [ 719.5784114 ]]\n"
     ]
    }
   ],
   "source": [
    "# calculate beta using the equation above\n",
    "# note that we get the same answers!\n",
    "X_t = X_matrix.transpose()\n",
    "beta = np.linalg.inv(X_t*X_matrix)*X_t*y.to_numpy()\n",
    "print(beta)"
   ]
  },
  {
   "cell_type": "markdown",
   "metadata": {},
   "source": [
    "## Let's see how this knowledge can help us understand errors"
   ]
  },
  {
   "cell_type": "code",
   "execution_count": 44,
   "metadata": {},
   "outputs": [
    {
     "name": "stdout",
     "output_type": "stream",
     "text": [
      "                            OLS Regression Results                            \n",
      "==============================================================================\n",
      "Dep. Variable:                   rent   R-squared:                       0.044\n",
      "Model:                            OLS   Adj. R-squared:                  0.041\n",
      "Method:                 Least Squares   F-statistic:                     15.46\n",
      "Date:                Thu, 13 May 2021   Prob (F-statistic):           7.69e-10\n",
      "Time:                        10:24:37   Log-Likelihood:                -8889.3\n",
      "No. Observations:                1013   AIC:                         1.779e+04\n",
      "Df Residuals:                    1009   BIC:                         1.781e+04\n",
      "Df Model:                           3                                         \n",
      "Covariance Type:            nonrobust                                         \n",
      "====================================================================================\n",
      "                       coef    std err          t      P>|t|      [0.025      0.975]\n",
      "------------------------------------------------------------------------------------\n",
      "Intercept         3696.1700    105.742     34.955      0.000    3488.670    3903.670\n",
      "building_age_yrs    -5.4651      1.117     -4.891      0.000      -7.658      -3.272\n",
      "min_to_subway       -0.0070      0.004     -1.665      0.096      -0.015       0.001\n",
      "secs_to_subway      -0.4195      0.252     -1.665      0.096      -0.914       0.075\n",
      "has_washer_dryer   719.5784    186.995      3.848      0.000     352.636    1086.521\n",
      "==============================================================================\n",
      "Omnibus:                      858.113   Durbin-Watson:                   1.848\n",
      "Prob(Omnibus):                  0.000   Jarque-Bera (JB):            26270.262\n",
      "Skew:                           3.755   Prob(JB):                         0.00\n",
      "Kurtosis:                      26.790   Cond. No.                     3.23e+17\n",
      "==============================================================================\n",
      "\n",
      "Warnings:\n",
      "[1] Standard Errors assume that the covariance matrix of the errors is correctly specified.\n",
      "[2] The smallest eigenvalue is 1.18e-27. This might indicate that there are\n",
      "strong multicollinearity problems or that the design matrix is singular.\n"
     ]
    }
   ],
   "source": [
    "bk.loc[:,('secs_to_subway')] = bk.loc[:,('min_to_subway')]*60.0\n",
    "model = sm.OLS.from_formula('rent ~ building_age_yrs + min_to_subway + secs_to_subway +has_washer_dryer', \n",
    "                            data = bk).fit()\n",
    "print(model.summary())\n"
   ]
  },
  {
   "cell_type": "code",
   "execution_count": 46,
   "metadata": {},
   "outputs": [
    {
     "name": "stdout",
     "output_type": "stream",
     "text": [
      "                            OLS Regression Results                            \n",
      "==============================================================================\n",
      "Dep. Variable:                   rent   R-squared:                       0.041\n",
      "Model:                            OLS   Adj. R-squared:                  0.039\n",
      "Method:                 Least Squares   F-statistic:                     21.77\n",
      "Date:                Thu, 13 May 2021   Prob (F-statistic):           5.53e-10\n",
      "Time:                        10:24:57   Log-Likelihood:                -8890.7\n",
      "No. Observations:                1013   AIC:                         1.779e+04\n",
      "Df Residuals:                    1010   BIC:                         1.780e+04\n",
      "Df Model:                           2                                         \n",
      "Covariance Type:            nonrobust                                         \n",
      "===========================================================================================\n",
      "                              coef    std err          t      P>|t|      [0.025      0.975]\n",
      "-------------------------------------------------------------------------------------------\n",
      "Intercept                2637.7445     73.143     36.063      0.000    2494.214    2781.275\n",
      "no_washer_dryer[T.True]   945.4460     72.901     12.969      0.000     802.391    1088.501\n",
      "building_age_yrs           -5.6084      1.115     -5.029      0.000      -7.797      -3.420\n",
      "has_washer_dryer         1692.2985    121.409     13.939      0.000    1454.056    1930.541\n",
      "==============================================================================\n",
      "Omnibus:                      857.325   Durbin-Watson:                   1.846\n",
      "Prob(Omnibus):                  0.000   Jarque-Bera (JB):            26142.299\n",
      "Skew:                           3.751   Prob(JB):                         0.00\n",
      "Kurtosis:                      26.729   Cond. No.                     8.68e+17\n",
      "==============================================================================\n",
      "\n",
      "Warnings:\n",
      "[1] Standard Errors assume that the covariance matrix of the errors is correctly specified.\n",
      "[2] The smallest eigenvalue is 6.82e-30. This might indicate that there are\n",
      "strong multicollinearity problems or that the design matrix is singular.\n"
     ]
    }
   ],
   "source": [
    "# similarly with categorical variables:\n",
    "\n",
    "bk.loc[:,('no_washer_dryer')] = np.logical_not(bk.loc[:,('has_washer_dryer')])\n",
    "model = sm.OLS.from_formula('rent ~ building_age_yrs + has_washer_dryer + no_washer_dryer', \n",
    "                            data = bk).fit()\n",
    "print(model.summary())\n"
   ]
  },
  {
   "cell_type": "markdown",
   "metadata": {},
   "source": [
    "## This knowledge can also help us figure out how to fit models using other libraries"
   ]
  },
  {
   "cell_type": "code",
   "execution_count": 55,
   "metadata": {},
   "outputs": [
    {
     "name": "stdout",
     "output_type": "stream",
     "text": [
      "   Intercept  building_age_yrs  has_washer_dryer\n",
      "0        1.0              15.0               0.0\n",
      "1        1.0               8.0               0.0\n",
      "2        1.0              96.0               0.0\n",
      "3        1.0              88.0               0.0\n",
      "4        1.0              85.0               0.0\n",
      "Intercept           3583.190584\n",
      "building_age_yrs      -5.608355\n",
      "has_washer_dryer     746.852458\n",
      "dtype: float64\n",
      "   building_age_yrs  has_washer_dryer\n",
      "0                15                 0\n",
      "1                 8                 0\n",
      "2                96                 0\n",
      "3                88                 0\n",
      "4                85                 0\n",
      "[3583.19058388]\n",
      "[[ -5.60835534 746.85245809]]\n"
     ]
    }
   ],
   "source": [
    "# for example, scikit-learn vs. statsmodels\n",
    "# note that the X matrix input looks slightly different for the two libraries\n",
    "\n",
    "# fit model with statsmodels:\n",
    "y, X = patsy.dmatrices('rent ~ building_age_yrs + has_washer_dryer', \n",
    "                       data = bk, \n",
    "                       return_type='dataframe')\n",
    "print(X.head())\n",
    "model_sm = sm.OLS(y,X).fit()\n",
    "print(model_sm.params)\n",
    "\n",
    "# fit model with sklearn\n",
    "from sklearn.linear_model import LinearRegression\n",
    "X = bk[['building_age_yrs', 'has_washer_dryer']]\n",
    "y = bk[['rent']]\n",
    "print(X.head())\n",
    "model_skl = LinearRegression()\n",
    "model_skl.fit(X, y)\n",
    "print(model_skl.intercept_)\n",
    "print(model_skl.coef_)"
   ]
  },
  {
   "cell_type": "code",
   "execution_count": null,
   "metadata": {},
   "outputs": [],
   "source": []
  }
 ],
 "metadata": {
  "kernelspec": {
   "display_name": "Python 3",
   "language": "python",
   "name": "python3"
  },
  "language_info": {
   "codemirror_mode": {
    "name": "ipython",
    "version": 3
   },
   "file_extension": ".py",
   "mimetype": "text/x-python",
   "name": "python",
   "nbconvert_exporter": "python",
   "pygments_lexer": "ipython3",
   "version": "3.7.6"
  }
 },
 "nbformat": 4,
 "nbformat_minor": 4
}
